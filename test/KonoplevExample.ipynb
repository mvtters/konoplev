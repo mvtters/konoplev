{
 "cells": [
  {
   "cell_type": "code",
   "execution_count": 1,
   "metadata": {},
   "outputs": [],
   "source": [
    "import pandas as pd\n",
    "import numpy as np\n",
    "import seaborn as sns\n",
    "import matplotlib.pyplot as plt\n",
    "from sklearn.preprocessing import LabelEncoder\n",
    "from sklearn.model_selection import train_test_split, cross_val_score, cross_validate, RandomizedSearchCV\n",
    "from sklearn.preprocessing import StandardScaler\n",
    "from sklearn.linear_model import LogisticRegression\n",
    "from sklearn.tree import DecisionTreeClassifier\n",
    "from sklearn.ensemble import RandomForestClassifier\n",
    "from sklearn.neighbors import KNeighborsClassifier\n",
    "from sklearn.metrics import RocCurveDisplay, roc_curve, roc_auc_score, confusion_matrix, accuracy_score, precision_score, recall_score, f1_score, classification_report\n"
   ]
  },
  {
   "cell_type": "code",
   "execution_count": 2,
   "metadata": {},
   "outputs": [],
   "source": [
    "df=pd.read_csv('hotel_train.csv')"
   ]
  },
  {
   "cell_type": "code",
   "execution_count": 3,
   "metadata": {},
   "outputs": [],
   "source": [
    "df_test=pd.read_csv('hotel_test.csv')"
   ]
  },
  {
   "cell_type": "code",
   "execution_count": 4,
   "metadata": {},
   "outputs": [],
   "source": [
    "example=pd.read_csv('example.csv')"
   ]
  },
  {
   "cell_type": "code",
   "execution_count": 5,
   "metadata": {},
   "outputs": [
    {
     "name": "stdout",
     "output_type": "stream",
     "text": [
      "<class 'pandas.core.frame.DataFrame'>\n",
      "RangeIndex: 109390 entries, 0 to 109389\n",
      "Data columns (total 33 columns):\n",
      " #   Column                          Non-Null Count   Dtype  \n",
      "---  ------                          --------------   -----  \n",
      " 0   Unnamed: 0                      109390 non-null  int64  \n",
      " 1   hotel                           109390 non-null  object \n",
      " 2   is_canceled                     109390 non-null  int64  \n",
      " 3   lead_time                       109390 non-null  int64  \n",
      " 4   arrival_date_year               109390 non-null  int64  \n",
      " 5   arrival_date_month              109390 non-null  object \n",
      " 6   arrival_date_week_number        109390 non-null  int64  \n",
      " 7   arrival_date_day_of_month       109390 non-null  int64  \n",
      " 8   stays_in_weekend_nights         109390 non-null  int64  \n",
      " 9   stays_in_week_nights            109390 non-null  int64  \n",
      " 10  adults                          109390 non-null  int64  \n",
      " 11  children                        109386 non-null  float64\n",
      " 12  babies                          109390 non-null  int64  \n",
      " 13  meal                            109390 non-null  object \n",
      " 14  country                         108950 non-null  object \n",
      " 15  market_segment                  109390 non-null  object \n",
      " 16  distribution_channel            109390 non-null  object \n",
      " 17  is_repeated_guest               109390 non-null  int64  \n",
      " 18  previous_cancellations          109390 non-null  int64  \n",
      " 19  previous_bookings_not_canceled  109390 non-null  int64  \n",
      " 20  reserved_room_type              109390 non-null  object \n",
      " 21  assigned_room_type              109390 non-null  object \n",
      " 22  booking_changes                 109390 non-null  int64  \n",
      " 23  deposit_type                    109390 non-null  object \n",
      " 24  agent                           94403 non-null   float64\n",
      " 25  company                         6237 non-null    float64\n",
      " 26  days_in_waiting_list            109390 non-null  int64  \n",
      " 27  customer_type                   109390 non-null  object \n",
      " 28  adr                             109390 non-null  float64\n",
      " 29  required_car_parking_spaces     109390 non-null  int64  \n",
      " 30  total_of_special_requests       109390 non-null  int64  \n",
      " 31  reservation_status              109390 non-null  object \n",
      " 32  reservation_status_date         109390 non-null  object \n",
      "dtypes: float64(4), int64(17), object(12)\n",
      "memory usage: 27.5+ MB\n"
     ]
    }
   ],
   "source": [
    "df.info()"
   ]
  },
  {
   "cell_type": "markdown",
   "metadata": {},
   "source": [
    "#### Проверим пропуски в данных"
   ]
  },
  {
   "cell_type": "code",
   "execution_count": 6,
   "metadata": {},
   "outputs": [],
   "source": [
    "def miss(df):\n",
    "    for col in df:\n",
    "        if df[col].isnull().sum()>0:\n",
    "            a=df[col].isnull().sum()\n",
    "            print(f' столбец {col} содержит {a} пропусков')\n",
    "    print('больше нет!')"
   ]
  },
  {
   "cell_type": "code",
   "execution_count": 8,
   "metadata": {},
   "outputs": [
    {
     "name": "stdout",
     "output_type": "stream",
     "text": [
      " столбец country содержит 48 пропусков\n",
      " столбец agent содержит 1353 пропусков\n",
      " столбец company содержит 9440 пропусков\n",
      "больше нет!\n"
     ]
    }
   ],
   "source": [
    "miss(df_test)"
   ]
  },
  {
   "cell_type": "code",
   "execution_count": 9,
   "metadata": {},
   "outputs": [
    {
     "name": "stdout",
     "output_type": "stream",
     "text": [
      " столбец children содержит 4 пропусков\n",
      " столбец country содержит 440 пропусков\n",
      " столбец agent содержит 14987 пропусков\n",
      " столбец company содержит 103153 пропусков\n",
      "больше нет!\n"
     ]
    }
   ],
   "source": [
    "miss(df)"
   ]
  },
  {
   "cell_type": "code",
   "execution_count": 74,
   "metadata": {},
   "outputs": [],
   "source": [
    "#удаляем все пропуски\n",
    "#также удаляем столбец company, так как пропусков слишком много\n",
    "df.drop(columns='company', inplace=True)\n",
    "df['agent'] = df['agent'].fillna(0)\n",
    "df['country'] = df['country'].fillna('Unknown')\n",
    "#подавляющее большинство значения равны нулю; заменим пропуски на ноли.\n",
    "df['children'] = df['children'].fillna(0)"
   ]
  },
  {
   "cell_type": "code",
   "execution_count": 75,
   "metadata": {},
   "outputs": [
    {
     "data": {
      "text/plain": [
       "0.0     101513\n",
       "1.0       4467\n",
       "2.0       3342\n",
       "3.0         67\n",
       "10.0         1\n",
       "Name: children, dtype: int64"
      ]
     },
     "execution_count": 75,
     "metadata": {},
     "output_type": "execute_result"
    }
   ],
   "source": [
    "# посмотрим на значения children\n",
    "df.children.value_counts()"
   ]
  },
  {
   "cell_type": "code",
   "execution_count": null,
   "metadata": {},
   "outputs": [],
   "source": []
  },
  {
   "cell_type": "code",
   "execution_count": 76,
   "metadata": {},
   "outputs": [
    {
     "name": "stdout",
     "output_type": "stream",
     "text": [
      "больше нет!\n"
     ]
    }
   ],
   "source": [
    "miss(df)"
   ]
  },
  {
   "cell_type": "markdown",
   "metadata": {},
   "source": [
    "Пропусков больше нет. \n",
    "Далее можео провести небольшой разведочный анализ данных."
   ]
  },
  {
   "cell_type": "code",
   "execution_count": 77,
   "metadata": {},
   "outputs": [],
   "source": [
    "#Созададим общий признак дети\n",
    "df['kids']=df['babies']+df['children']\n",
    "df.drop(['babies','children'], axis=1, inplace=True)"
   ]
  },
  {
   "cell_type": "code",
   "execution_count": 78,
   "metadata": {},
   "outputs": [],
   "source": [
    "#Создадим общий признак количество дней, вошедших в период бронирования\n",
    "df['total_stay']=df['stays_in_weekend_nights']+df['stays_in_week_nights']\n",
    "df.drop(['stays_in_weekend_nights','stays_in_week_nights'], axis=1, inplace=True)"
   ]
  },
  {
   "cell_type": "markdown",
   "metadata": {},
   "source": [
    "## Разведочный анализ"
   ]
  },
  {
   "cell_type": "code",
   "execution_count": 79,
   "metadata": {},
   "outputs": [
    {
     "data": {
      "text/plain": [
       "0"
      ]
     },
     "execution_count": 79,
     "metadata": {},
     "output_type": "execute_result"
    }
   ],
   "source": [
    "#проверим наличие дубликатов\n",
    "df.duplicated().sum()"
   ]
  },
  {
   "cell_type": "code",
   "execution_count": 80,
   "metadata": {},
   "outputs": [
    {
     "data": {
      "text/html": [
       "<div>\n",
       "<style scoped>\n",
       "    .dataframe tbody tr th:only-of-type {\n",
       "        vertical-align: middle;\n",
       "    }\n",
       "\n",
       "    .dataframe tbody tr th {\n",
       "        vertical-align: top;\n",
       "    }\n",
       "\n",
       "    .dataframe thead th {\n",
       "        text-align: right;\n",
       "    }\n",
       "</style>\n",
       "<table border=\"1\" class=\"dataframe\">\n",
       "  <thead>\n",
       "    <tr style=\"text-align: right;\">\n",
       "      <th></th>\n",
       "      <th>Unnamed: 0</th>\n",
       "      <th>is_canceled</th>\n",
       "      <th>lead_time</th>\n",
       "      <th>arrival_date_year</th>\n",
       "      <th>arrival_date_week_number</th>\n",
       "      <th>arrival_date_day_of_month</th>\n",
       "      <th>adults</th>\n",
       "      <th>is_repeated_guest</th>\n",
       "      <th>previous_cancellations</th>\n",
       "      <th>previous_bookings_not_canceled</th>\n",
       "      <th>booking_changes</th>\n",
       "      <th>agent</th>\n",
       "      <th>days_in_waiting_list</th>\n",
       "      <th>adr</th>\n",
       "      <th>required_car_parking_spaces</th>\n",
       "      <th>total_of_special_requests</th>\n",
       "      <th>kids</th>\n",
       "      <th>total_stay</th>\n",
       "    </tr>\n",
       "  </thead>\n",
       "  <tbody>\n",
       "    <tr>\n",
       "      <th>count</th>\n",
       "      <td>109390.000000</td>\n",
       "      <td>109390.000000</td>\n",
       "      <td>109390.000000</td>\n",
       "      <td>109390.000000</td>\n",
       "      <td>109390.000000</td>\n",
       "      <td>109390.000000</td>\n",
       "      <td>109390.000000</td>\n",
       "      <td>109390.000000</td>\n",
       "      <td>109390.000000</td>\n",
       "      <td>109390.000000</td>\n",
       "      <td>109390.000000</td>\n",
       "      <td>109390.000000</td>\n",
       "      <td>109390.000000</td>\n",
       "      <td>109390.000000</td>\n",
       "      <td>109390.000000</td>\n",
       "      <td>109390.000000</td>\n",
       "      <td>109390.000000</td>\n",
       "      <td>109390.000000</td>\n",
       "    </tr>\n",
       "    <tr>\n",
       "      <th>mean</th>\n",
       "      <td>54694.500000</td>\n",
       "      <td>0.370619</td>\n",
       "      <td>103.962309</td>\n",
       "      <td>2016.156733</td>\n",
       "      <td>27.176086</td>\n",
       "      <td>15.793665</td>\n",
       "      <td>1.856221</td>\n",
       "      <td>0.031840</td>\n",
       "      <td>0.085739</td>\n",
       "      <td>0.136795</td>\n",
       "      <td>0.221227</td>\n",
       "      <td>74.859539</td>\n",
       "      <td>2.295173</td>\n",
       "      <td>101.848380</td>\n",
       "      <td>0.062391</td>\n",
       "      <td>0.572210</td>\n",
       "      <td>0.111811</td>\n",
       "      <td>3.428549</td>\n",
       "    </tr>\n",
       "    <tr>\n",
       "      <th>std</th>\n",
       "      <td>31578.317311</td>\n",
       "      <td>0.482973</td>\n",
       "      <td>106.830264</td>\n",
       "      <td>0.706818</td>\n",
       "      <td>13.607950</td>\n",
       "      <td>8.787948</td>\n",
       "      <td>0.583035</td>\n",
       "      <td>0.175575</td>\n",
       "      <td>0.821513</td>\n",
       "      <td>1.494938</td>\n",
       "      <td>0.653251</td>\n",
       "      <td>107.125415</td>\n",
       "      <td>17.475652</td>\n",
       "      <td>50.770693</td>\n",
       "      <td>0.245319</td>\n",
       "      <td>0.792711</td>\n",
       "      <td>0.412281</td>\n",
       "      <td>2.558170</td>\n",
       "    </tr>\n",
       "    <tr>\n",
       "      <th>min</th>\n",
       "      <td>0.000000</td>\n",
       "      <td>0.000000</td>\n",
       "      <td>0.000000</td>\n",
       "      <td>2015.000000</td>\n",
       "      <td>1.000000</td>\n",
       "      <td>1.000000</td>\n",
       "      <td>0.000000</td>\n",
       "      <td>0.000000</td>\n",
       "      <td>0.000000</td>\n",
       "      <td>0.000000</td>\n",
       "      <td>0.000000</td>\n",
       "      <td>0.000000</td>\n",
       "      <td>0.000000</td>\n",
       "      <td>-6.380000</td>\n",
       "      <td>0.000000</td>\n",
       "      <td>0.000000</td>\n",
       "      <td>0.000000</td>\n",
       "      <td>0.000000</td>\n",
       "    </tr>\n",
       "    <tr>\n",
       "      <th>25%</th>\n",
       "      <td>27347.250000</td>\n",
       "      <td>0.000000</td>\n",
       "      <td>18.000000</td>\n",
       "      <td>2016.000000</td>\n",
       "      <td>16.000000</td>\n",
       "      <td>8.000000</td>\n",
       "      <td>2.000000</td>\n",
       "      <td>0.000000</td>\n",
       "      <td>0.000000</td>\n",
       "      <td>0.000000</td>\n",
       "      <td>0.000000</td>\n",
       "      <td>7.000000</td>\n",
       "      <td>0.000000</td>\n",
       "      <td>69.372500</td>\n",
       "      <td>0.000000</td>\n",
       "      <td>0.000000</td>\n",
       "      <td>0.000000</td>\n",
       "      <td>2.000000</td>\n",
       "    </tr>\n",
       "    <tr>\n",
       "      <th>50%</th>\n",
       "      <td>54694.500000</td>\n",
       "      <td>0.000000</td>\n",
       "      <td>69.000000</td>\n",
       "      <td>2016.000000</td>\n",
       "      <td>28.000000</td>\n",
       "      <td>16.000000</td>\n",
       "      <td>2.000000</td>\n",
       "      <td>0.000000</td>\n",
       "      <td>0.000000</td>\n",
       "      <td>0.000000</td>\n",
       "      <td>0.000000</td>\n",
       "      <td>9.000000</td>\n",
       "      <td>0.000000</td>\n",
       "      <td>94.500000</td>\n",
       "      <td>0.000000</td>\n",
       "      <td>0.000000</td>\n",
       "      <td>0.000000</td>\n",
       "      <td>3.000000</td>\n",
       "    </tr>\n",
       "    <tr>\n",
       "      <th>75%</th>\n",
       "      <td>82041.750000</td>\n",
       "      <td>1.000000</td>\n",
       "      <td>160.000000</td>\n",
       "      <td>2017.000000</td>\n",
       "      <td>38.000000</td>\n",
       "      <td>23.000000</td>\n",
       "      <td>2.000000</td>\n",
       "      <td>0.000000</td>\n",
       "      <td>0.000000</td>\n",
       "      <td>0.000000</td>\n",
       "      <td>0.000000</td>\n",
       "      <td>152.000000</td>\n",
       "      <td>0.000000</td>\n",
       "      <td>126.000000</td>\n",
       "      <td>0.000000</td>\n",
       "      <td>1.000000</td>\n",
       "      <td>0.000000</td>\n",
       "      <td>4.000000</td>\n",
       "    </tr>\n",
       "    <tr>\n",
       "      <th>max</th>\n",
       "      <td>109389.000000</td>\n",
       "      <td>1.000000</td>\n",
       "      <td>737.000000</td>\n",
       "      <td>2017.000000</td>\n",
       "      <td>53.000000</td>\n",
       "      <td>31.000000</td>\n",
       "      <td>55.000000</td>\n",
       "      <td>1.000000</td>\n",
       "      <td>26.000000</td>\n",
       "      <td>72.000000</td>\n",
       "      <td>21.000000</td>\n",
       "      <td>535.000000</td>\n",
       "      <td>391.000000</td>\n",
       "      <td>5400.000000</td>\n",
       "      <td>8.000000</td>\n",
       "      <td>5.000000</td>\n",
       "      <td>10.000000</td>\n",
       "      <td>69.000000</td>\n",
       "    </tr>\n",
       "  </tbody>\n",
       "</table>\n",
       "</div>"
      ],
      "text/plain": [
       "          Unnamed: 0    is_canceled      lead_time  arrival_date_year  \\\n",
       "count  109390.000000  109390.000000  109390.000000      109390.000000   \n",
       "mean    54694.500000       0.370619     103.962309        2016.156733   \n",
       "std     31578.317311       0.482973     106.830264           0.706818   \n",
       "min         0.000000       0.000000       0.000000        2015.000000   \n",
       "25%     27347.250000       0.000000      18.000000        2016.000000   \n",
       "50%     54694.500000       0.000000      69.000000        2016.000000   \n",
       "75%     82041.750000       1.000000     160.000000        2017.000000   \n",
       "max    109389.000000       1.000000     737.000000        2017.000000   \n",
       "\n",
       "       arrival_date_week_number  arrival_date_day_of_month         adults  \\\n",
       "count             109390.000000              109390.000000  109390.000000   \n",
       "mean                  27.176086                  15.793665       1.856221   \n",
       "std                   13.607950                   8.787948       0.583035   \n",
       "min                    1.000000                   1.000000       0.000000   \n",
       "25%                   16.000000                   8.000000       2.000000   \n",
       "50%                   28.000000                  16.000000       2.000000   \n",
       "75%                   38.000000                  23.000000       2.000000   \n",
       "max                   53.000000                  31.000000      55.000000   \n",
       "\n",
       "       is_repeated_guest  previous_cancellations  \\\n",
       "count      109390.000000           109390.000000   \n",
       "mean            0.031840                0.085739   \n",
       "std             0.175575                0.821513   \n",
       "min             0.000000                0.000000   \n",
       "25%             0.000000                0.000000   \n",
       "50%             0.000000                0.000000   \n",
       "75%             0.000000                0.000000   \n",
       "max             1.000000               26.000000   \n",
       "\n",
       "       previous_bookings_not_canceled  booking_changes          agent  \\\n",
       "count                   109390.000000    109390.000000  109390.000000   \n",
       "mean                         0.136795         0.221227      74.859539   \n",
       "std                          1.494938         0.653251     107.125415   \n",
       "min                          0.000000         0.000000       0.000000   \n",
       "25%                          0.000000         0.000000       7.000000   \n",
       "50%                          0.000000         0.000000       9.000000   \n",
       "75%                          0.000000         0.000000     152.000000   \n",
       "max                         72.000000        21.000000     535.000000   \n",
       "\n",
       "       days_in_waiting_list            adr  required_car_parking_spaces  \\\n",
       "count         109390.000000  109390.000000                109390.000000   \n",
       "mean               2.295173     101.848380                     0.062391   \n",
       "std               17.475652      50.770693                     0.245319   \n",
       "min                0.000000      -6.380000                     0.000000   \n",
       "25%                0.000000      69.372500                     0.000000   \n",
       "50%                0.000000      94.500000                     0.000000   \n",
       "75%                0.000000     126.000000                     0.000000   \n",
       "max              391.000000    5400.000000                     8.000000   \n",
       "\n",
       "       total_of_special_requests           kids     total_stay  \n",
       "count              109390.000000  109390.000000  109390.000000  \n",
       "mean                    0.572210       0.111811       3.428549  \n",
       "std                     0.792711       0.412281       2.558170  \n",
       "min                     0.000000       0.000000       0.000000  \n",
       "25%                     0.000000       0.000000       2.000000  \n",
       "50%                     0.000000       0.000000       3.000000  \n",
       "75%                     1.000000       0.000000       4.000000  \n",
       "max                     5.000000      10.000000      69.000000  "
      ]
     },
     "execution_count": 80,
     "metadata": {},
     "output_type": "execute_result"
    }
   ],
   "source": [
    "#посмотрим на данные\n",
    "df.describe()"
   ]
  },
  {
   "cell_type": "code",
   "execution_count": 81,
   "metadata": {},
   "outputs": [],
   "source": [
    "#В данных есть отрицательный adr, так скорее всего быть не должно.\n",
    "df.drop(df[df.adr<1.0].index,inplace=True)\n",
    "# Ненужный столбец\n",
    "df.drop(columns='Unnamed: 0', inplace=True)"
   ]
  },
  {
   "cell_type": "code",
   "execution_count": 82,
   "metadata": {},
   "outputs": [
    {
     "data": {
      "text/html": [
       "<div>\n",
       "<style scoped>\n",
       "    .dataframe tbody tr th:only-of-type {\n",
       "        vertical-align: middle;\n",
       "    }\n",
       "\n",
       "    .dataframe tbody tr th {\n",
       "        vertical-align: top;\n",
       "    }\n",
       "\n",
       "    .dataframe thead th {\n",
       "        text-align: right;\n",
       "    }\n",
       "</style>\n",
       "<table border=\"1\" class=\"dataframe\">\n",
       "  <thead>\n",
       "    <tr style=\"text-align: right;\">\n",
       "      <th></th>\n",
       "      <th>hotel</th>\n",
       "      <th>is_canceled</th>\n",
       "      <th>lead_time</th>\n",
       "      <th>arrival_date_year</th>\n",
       "      <th>arrival_date_month</th>\n",
       "      <th>arrival_date_week_number</th>\n",
       "      <th>arrival_date_day_of_month</th>\n",
       "      <th>adults</th>\n",
       "      <th>meal</th>\n",
       "      <th>country</th>\n",
       "      <th>...</th>\n",
       "      <th>agent</th>\n",
       "      <th>days_in_waiting_list</th>\n",
       "      <th>customer_type</th>\n",
       "      <th>adr</th>\n",
       "      <th>required_car_parking_spaces</th>\n",
       "      <th>total_of_special_requests</th>\n",
       "      <th>reservation_status</th>\n",
       "      <th>reservation_status_date</th>\n",
       "      <th>kids</th>\n",
       "      <th>total_stay</th>\n",
       "    </tr>\n",
       "  </thead>\n",
       "  <tbody>\n",
       "    <tr>\n",
       "      <th>0</th>\n",
       "      <td>City Hotel</td>\n",
       "      <td>1</td>\n",
       "      <td>38</td>\n",
       "      <td>2016</td>\n",
       "      <td>June</td>\n",
       "      <td>26</td>\n",
       "      <td>19</td>\n",
       "      <td>1</td>\n",
       "      <td>BB</td>\n",
       "      <td>PRT</td>\n",
       "      <td>...</td>\n",
       "      <td>52.0</td>\n",
       "      <td>0</td>\n",
       "      <td>Transient</td>\n",
       "      <td>81.00</td>\n",
       "      <td>0</td>\n",
       "      <td>0</td>\n",
       "      <td>Canceled</td>\n",
       "      <td>2016-05-27</td>\n",
       "      <td>0.0</td>\n",
       "      <td>3</td>\n",
       "    </tr>\n",
       "    <tr>\n",
       "      <th>1</th>\n",
       "      <td>City Hotel</td>\n",
       "      <td>0</td>\n",
       "      <td>10</td>\n",
       "      <td>2016</td>\n",
       "      <td>November</td>\n",
       "      <td>47</td>\n",
       "      <td>13</td>\n",
       "      <td>1</td>\n",
       "      <td>BB</td>\n",
       "      <td>BEL</td>\n",
       "      <td>...</td>\n",
       "      <td>9.0</td>\n",
       "      <td>0</td>\n",
       "      <td>Transient</td>\n",
       "      <td>97.00</td>\n",
       "      <td>0</td>\n",
       "      <td>2</td>\n",
       "      <td>Check-Out</td>\n",
       "      <td>2016-11-17</td>\n",
       "      <td>0.0</td>\n",
       "      <td>4</td>\n",
       "    </tr>\n",
       "    <tr>\n",
       "      <th>2</th>\n",
       "      <td>City Hotel</td>\n",
       "      <td>0</td>\n",
       "      <td>246</td>\n",
       "      <td>2016</td>\n",
       "      <td>December</td>\n",
       "      <td>53</td>\n",
       "      <td>27</td>\n",
       "      <td>3</td>\n",
       "      <td>BB</td>\n",
       "      <td>ROU</td>\n",
       "      <td>...</td>\n",
       "      <td>7.0</td>\n",
       "      <td>0</td>\n",
       "      <td>Transient</td>\n",
       "      <td>93.36</td>\n",
       "      <td>0</td>\n",
       "      <td>2</td>\n",
       "      <td>Check-Out</td>\n",
       "      <td>2017-01-03</td>\n",
       "      <td>0.0</td>\n",
       "      <td>7</td>\n",
       "    </tr>\n",
       "    <tr>\n",
       "      <th>3</th>\n",
       "      <td>City Hotel</td>\n",
       "      <td>0</td>\n",
       "      <td>84</td>\n",
       "      <td>2015</td>\n",
       "      <td>October</td>\n",
       "      <td>42</td>\n",
       "      <td>16</td>\n",
       "      <td>2</td>\n",
       "      <td>BB</td>\n",
       "      <td>NOR</td>\n",
       "      <td>...</td>\n",
       "      <td>8.0</td>\n",
       "      <td>0</td>\n",
       "      <td>Transient</td>\n",
       "      <td>89.25</td>\n",
       "      <td>0</td>\n",
       "      <td>2</td>\n",
       "      <td>Check-Out</td>\n",
       "      <td>2015-10-19</td>\n",
       "      <td>0.0</td>\n",
       "      <td>3</td>\n",
       "    </tr>\n",
       "    <tr>\n",
       "      <th>4</th>\n",
       "      <td>Resort Hotel</td>\n",
       "      <td>0</td>\n",
       "      <td>50</td>\n",
       "      <td>2016</td>\n",
       "      <td>November</td>\n",
       "      <td>49</td>\n",
       "      <td>29</td>\n",
       "      <td>2</td>\n",
       "      <td>BB</td>\n",
       "      <td>GBR</td>\n",
       "      <td>...</td>\n",
       "      <td>314.0</td>\n",
       "      <td>0</td>\n",
       "      <td>Transient</td>\n",
       "      <td>44.99</td>\n",
       "      <td>0</td>\n",
       "      <td>1</td>\n",
       "      <td>Check-Out</td>\n",
       "      <td>2016-12-06</td>\n",
       "      <td>0.0</td>\n",
       "      <td>7</td>\n",
       "    </tr>\n",
       "  </tbody>\n",
       "</table>\n",
       "<p>5 rows × 29 columns</p>\n",
       "</div>"
      ],
      "text/plain": [
       "          hotel  is_canceled  lead_time  arrival_date_year arrival_date_month  \\\n",
       "0    City Hotel            1         38               2016               June   \n",
       "1    City Hotel            0         10               2016           November   \n",
       "2    City Hotel            0        246               2016           December   \n",
       "3    City Hotel            0         84               2015            October   \n",
       "4  Resort Hotel            0         50               2016           November   \n",
       "\n",
       "   arrival_date_week_number  arrival_date_day_of_month  adults meal country  \\\n",
       "0                        26                         19       1   BB     PRT   \n",
       "1                        47                         13       1   BB     BEL   \n",
       "2                        53                         27       3   BB     ROU   \n",
       "3                        42                         16       2   BB     NOR   \n",
       "4                        49                         29       2   BB     GBR   \n",
       "\n",
       "   ...  agent days_in_waiting_list  customer_type    adr  \\\n",
       "0  ...   52.0                    0      Transient  81.00   \n",
       "1  ...    9.0                    0      Transient  97.00   \n",
       "2  ...    7.0                    0      Transient  93.36   \n",
       "3  ...    8.0                    0      Transient  89.25   \n",
       "4  ...  314.0                    0      Transient  44.99   \n",
       "\n",
       "   required_car_parking_spaces total_of_special_requests reservation_status  \\\n",
       "0                            0                         0           Canceled   \n",
       "1                            0                         2          Check-Out   \n",
       "2                            0                         2          Check-Out   \n",
       "3                            0                         2          Check-Out   \n",
       "4                            0                         1          Check-Out   \n",
       "\n",
       "   reservation_status_date kids  total_stay  \n",
       "0               2016-05-27  0.0           3  \n",
       "1               2016-11-17  0.0           4  \n",
       "2               2017-01-03  0.0           7  \n",
       "3               2015-10-19  0.0           3  \n",
       "4               2016-12-06  0.0           7  \n",
       "\n",
       "[5 rows x 29 columns]"
      ]
     },
     "execution_count": 82,
     "metadata": {},
     "output_type": "execute_result"
    }
   ],
   "source": [
    "df.head()"
   ]
  },
  {
   "cell_type": "code",
   "execution_count": 83,
   "metadata": {},
   "outputs": [
    {
     "data": {
      "image/png": "[encoded data removed]",
      "text/plain": [
       "<Figure size 360x360 with 1 Axes>"
      ]
     },
     "metadata": {},
     "output_type": "display_data"
    }
   ],
   "source": [
    "labels = df.hotel.value_counts().index\n",
    "sizes = df.hotel.value_counts()\n",
    "plt.figure(figsize = (5,5))\n",
    "plt.pie(sizes, labels=labels,colors=['#55AAFF','yellow'])\n",
    "plt.title('City hotel v Resort hotel',color = 'black',fontsize = 13);"
   ]
  },
  {
   "cell_type": "code",
   "execution_count": 84,
   "metadata": {},
   "outputs": [
    {
     "data": {
      "image/png": "[encoded data removed]",
      "text/plain": [
       "<Figure size 432x288 with 1 Axes>"
      ]
     },
     "metadata": {
      "needs_background": "light"
     },
     "output_type": "display_data"
    }
   ],
   "source": [
    "counts = df.is_canceled.value_counts()\n",
    "counts.sort_index(inplace=True)\n",
    "sns.barplot(x = counts.index, y = counts,palette='Greens')\n",
    "plt.xlabel('is_canceled')\n",
    "plt.ylabel('counts')\n",
    "plt.title('Отмены',color = 'black',fontsize = 13);"
   ]
  },
  {
   "cell_type": "code",
   "execution_count": 85,
   "metadata": {},
   "outputs": [
    {
     "data": {
      "image/png": "[encoded data removed]",
      "text/plain": [
       "<Figure size 432x288 with 1 Axes>"
      ]
     },
     "metadata": {
      "needs_background": "light"
     },
     "output_type": "display_data"
    }
   ],
   "source": [
    "sns.countplot(data=df, x = 'reservation_status',hue='is_canceled',palette='Greens')\n",
    "plt.title(\"Отмены по статусу бронирования\",fontsize=16)\n",
    "plt.legend(['Не отменено','Отменено'])\n",
    "plt.show()"
   ]
  },
  {
   "cell_type": "code",
   "execution_count": 86,
   "metadata": {},
   "outputs": [
    {
     "data": {
      "image/png": "[encoded data removed]",
      "text/plain": [
       "<Figure size 432x288 with 1 Axes>"
      ]
     },
     "metadata": {
      "needs_background": "light"
     },
     "output_type": "display_data"
    }
   ],
   "source": [
    "sns.countplot(data=df, x = 'hotel',hue='is_canceled',palette='Greens')\n",
    "plt.title(\"Отмены по отелям\",fontsize=16)\n",
    "plt.legend(['Не отменено','Отменено'])\n",
    "plt.show()"
   ]
  },
  {
   "cell_type": "code",
   "execution_count": null,
   "metadata": {},
   "outputs": [],
   "source": []
  },
  {
   "cell_type": "code",
   "execution_count": 87,
   "metadata": {},
   "outputs": [
    {
     "data": {
      "image/png": "[encoded data removed]",
      "text/plain": [
       "<Figure size 432x288 with 1 Axes>"
      ]
     },
     "metadata": {
      "needs_background": "light"
     },
     "output_type": "display_data"
    }
   ],
   "source": [
    "sns.countplot(data=df, x = 'deposit_type',hue='is_canceled',palette='Greens')\n",
    "plt.title(\"Отмены по типу депозита\",fontsize=16)\n",
    "plt.legend(['Не отменено','Отменено'])\n",
    "plt.show()"
   ]
  },
  {
   "cell_type": "code",
   "execution_count": 88,
   "metadata": {},
   "outputs": [
    {
     "data": {
      "image/png": "[encoded data removed]",
      "text/plain": [
       "<Figure size 1080x360 with 1 Axes>"
      ]
     },
     "metadata": {
      "needs_background": "light"
     },
     "output_type": "display_data"
    }
   ],
   "source": [
    "plt.figure(figsize=(15,5))\n",
    "sns.countplot(data=df, x = 'arrival_date_month',hue='is_canceled',palette='Greens',order=[\"January\",\"February\",\"March\",\"April\",\"May\",\"June\",\"July\",\"August\",\"September\",\"October\",\"November\",\"December\"])\n",
    "plt.title(\"Отмены по месяцам\",fontsize=16)\n",
    "plt.legend(['Не отменено','Отменено'])\n",
    "plt.show()"
   ]
  },
  {
   "cell_type": "markdown",
   "metadata": {},
   "source": [
    "#### Категориальные данные"
   ]
  },
  {
   "cell_type": "code",
   "execution_count": 89,
   "metadata": {},
   "outputs": [
    {
     "name": "stdout",
     "output_type": "stream",
     "text": [
      "hotel 2\n",
      "arrival_date_month 12\n",
      "meal 5\n",
      "country 176\n",
      "market_segment 8\n",
      "distribution_channel 5\n",
      "reserved_room_type 9\n",
      "assigned_room_type 11\n",
      "deposit_type 3\n",
      "customer_type 4\n",
      "reservation_status 3\n",
      "reservation_status_date 921\n"
     ]
    }
   ],
   "source": [
    "#Посмотрим категориальные данные\n",
    "cate = df.select_dtypes(include='object')\n",
    "for i in cate:\n",
    "    print(i , df[i].nunique())"
   ]
  },
  {
   "cell_type": "code",
   "execution_count": 90,
   "metadata": {},
   "outputs": [],
   "source": [
    "# дата установки статуса определяется как объект, переведем в дату.\n",
    "df['reservation_status_date']=pd.to_datetime(df['reservation_status_date'])"
   ]
  },
  {
   "cell_type": "code",
   "execution_count": 91,
   "metadata": {},
   "outputs": [],
   "source": [
    "#переведем reservation_status_date в отдельные столбцы и удалим сам признак\n",
    "df['reservation_status_year'] = df['reservation_status_date'].dt.year\n",
    "df['reservation_status_month'] = df['reservation_status_date'].dt.month\n",
    "df['reservation_status_day'] = df['reservation_status_date'].dt.day\n",
    "df.drop(columns='reservation_status_date', inplace=True)"
   ]
  },
  {
   "cell_type": "code",
   "execution_count": 92,
   "metadata": {},
   "outputs": [
    {
     "name": "stdout",
     "output_type": "stream",
     "text": [
      "hotel 2\n",
      "arrival_date_month 12\n",
      "meal 5\n",
      "country 176\n",
      "market_segment 8\n",
      "distribution_channel 5\n",
      "reserved_room_type 9\n",
      "assigned_room_type 11\n",
      "deposit_type 3\n",
      "customer_type 4\n",
      "reservation_status 3\n"
     ]
    }
   ],
   "source": [
    "a = df.select_dtypes(object).columns\n",
    "cat_list = []\n",
    "for i in a:\n",
    "    print (i, df[i].nunique())\n",
    "    cat_list.append(i)"
   ]
  },
  {
   "cell_type": "code",
   "execution_count": 93,
   "metadata": {},
   "outputs": [],
   "source": [
    "#Закодируем категориальные переменные\n",
    "le=LabelEncoder()\n",
    "for i in cat_list:\n",
    "    df[i] = le.fit_transform(df[i])\n",
    "df['reservation_status_year'] = le.fit_transform(df['reservation_status_year'])\n",
    "df['reservation_status_month'] = le.fit_transform(df['reservation_status_month'])\n",
    "df['reservation_status_day'] = le.fit_transform(df['reservation_status_day'])"
   ]
  },
  {
   "cell_type": "code",
   "execution_count": 94,
   "metadata": {},
   "outputs": [],
   "source": [
    "#Удалим статус бронирования, так как он практически полностью копирует результирующий признак\n",
    "df.drop(['arrival_date_year','reservation_status'], axis = 1, inplace=True)"
   ]
  },
  {
   "cell_type": "markdown",
   "metadata": {},
   "source": [
    "### Повтор действий с df_test"
   ]
  },
  {
   "cell_type": "code",
   "execution_count": 95,
   "metadata": {},
   "outputs": [],
   "source": [
    "#удаляем все пропуски\n",
    "#также удаляем столбец company, так как пропусков слишком много\n",
    "df_test.drop(columns='company', inplace=True)\n",
    "df_test['agent'] = df_test['agent'].fillna(0)\n",
    "df_test['country'] = df_test['country'].fillna('Unknown')\n",
    "#подавляющее большинство значения равны нулю; заменим пропуски на ноли.\n",
    "df_test['children'] = df_test['children'].fillna(0)"
   ]
  },
  {
   "cell_type": "code",
   "execution_count": 96,
   "metadata": {},
   "outputs": [],
   "source": [
    "#Созададим общий признак дети\n",
    "df_test['kids']=df_test['babies']+df_test['children']\n",
    "df_test.drop(['babies','children'], axis=1, inplace=True)\n",
    "#Создадим общий признак количество дней, вошедших в период бронирования\n",
    "df_test['total_stay']=df_test['stays_in_weekend_nights']+df_test['stays_in_week_nights']\n",
    "df_test.drop(['stays_in_weekend_nights','stays_in_week_nights'], axis=1, inplace=True)\n"
   ]
  },
  {
   "cell_type": "code",
   "execution_count": 97,
   "metadata": {},
   "outputs": [],
   "source": [
    "# Ненужный столбец\n",
    "df_test.drop(columns='Unnamed: 0', inplace=True)"
   ]
  },
  {
   "cell_type": "code",
   "execution_count": 98,
   "metadata": {},
   "outputs": [],
   "source": [
    "# дата установки статуса определяется как объект, переведем в дату.\n",
    "df_test['reservation_status_date']=pd.to_datetime(df_test['reservation_status_date'])\n",
    "#переведем reservation_status_date в отдельные столбцы и удалим сам признак\n",
    "df_test['reservation_status_year'] = df_test['reservation_status_date'].dt.year\n",
    "df_test['reservation_status_month'] = df_test['reservation_status_date'].dt.month\n",
    "df_test['reservation_status_day'] = df_test['reservation_status_date'].dt.day\n",
    "df_test.drop(columns='reservation_status_date', inplace=True)"
   ]
  },
  {
   "cell_type": "code",
   "execution_count": 99,
   "metadata": {},
   "outputs": [
    {
     "name": "stdout",
     "output_type": "stream",
     "text": [
      "hotel 2\n",
      "arrival_date_month 12\n",
      "meal 5\n",
      "country 108\n",
      "market_segment 7\n",
      "distribution_channel 4\n",
      "reserved_room_type 10\n",
      "assigned_room_type 11\n",
      "deposit_type 3\n",
      "customer_type 4\n",
      "reservation_status 3\n"
     ]
    }
   ],
   "source": [
    "b = df_test.select_dtypes(object).columns\n",
    "cat_list_test = []\n",
    "for i in b:\n",
    "    print (i, df_test[i].nunique())\n",
    "    cat_list_test.append(i)"
   ]
  },
  {
   "cell_type": "code",
   "execution_count": 100,
   "metadata": {},
   "outputs": [],
   "source": [
    "#Закодируем категориальные переменные\n",
    "le=LabelEncoder()\n",
    "for i in cat_list_test:\n",
    "    df_test[i] = le.fit_transform(df_test[i])\n",
    "df_test['reservation_status_year'] = le.fit_transform(df_test['reservation_status_year'])\n",
    "df_test['reservation_status_month'] = le.fit_transform(df_test['reservation_status_month'])\n",
    "df_test['reservation_status_day'] = le.fit_transform(df_test['reservation_status_day'])"
   ]
  },
  {
   "cell_type": "code",
   "execution_count": 101,
   "metadata": {},
   "outputs": [],
   "source": [
    "#Удалим статус бронирования, так как он практически полностью копирует результирующий признак\n",
    "df_test.drop(['arrival_date_year','reservation_status'], axis = 1, inplace=True)"
   ]
  },
  {
   "cell_type": "markdown",
   "metadata": {},
   "source": [
    "#### Объединим общую с тестовой выборкой"
   ]
  },
  {
   "cell_type": "markdown",
   "metadata": {},
   "source": [
    "объединим, чтобы стандартизировать и потом обратно разделим"
   ]
  },
  {
   "cell_type": "code",
   "execution_count": 102,
   "metadata": {},
   "outputs": [],
   "source": [
    "df_c=pd.concat([df,df_test])"
   ]
  },
  {
   "cell_type": "code",
   "execution_count": 103,
   "metadata": {},
   "outputs": [],
   "source": [
    "df_c.drop('is_canceled', axis=1, inplace=True)"
   ]
  },
  {
   "cell_type": "code",
   "execution_count": 104,
   "metadata": {},
   "outputs": [],
   "source": [
    "#Стандартизация\n",
    "scaler = StandardScaler()\n",
    "df_std = scaler.fit_transform(df_c)"
   ]
  },
  {
   "cell_type": "markdown",
   "metadata": {},
   "source": [
    "Разделим обратно"
   ]
  },
  {
   "cell_type": "code",
   "execution_count": 105,
   "metadata": {},
   "outputs": [],
   "source": [
    "y = df['is_canceled']"
   ]
  },
  {
   "cell_type": "code",
   "execution_count": 106,
   "metadata": {},
   "outputs": [],
   "source": [
    "X_std=df_std[:len(df)]\n",
    "df_test=df_std[len(df):]"
   ]
  },
  {
   "cell_type": "markdown",
   "metadata": {},
   "source": [
    "#### Разделеление"
   ]
  },
  {
   "cell_type": "code",
   "execution_count": 107,
   "metadata": {},
   "outputs": [],
   "source": [
    "#Разделение\n",
    "X_train, X_test, y_train, y_test = train_test_split(X_std,y,random_state=123,test_size=0.3)"
   ]
  },
  {
   "cell_type": "markdown",
   "metadata": {},
   "source": [
    "#### Логистическая модель"
   ]
  },
  {
   "cell_type": "code",
   "execution_count": 108,
   "metadata": {},
   "outputs": [
    {
     "data": {
      "text/plain": [
       "0.866955836840695"
      ]
     },
     "execution_count": 108,
     "metadata": {},
     "output_type": "execute_result"
    }
   ],
   "source": [
    "log_reg = LogisticRegression()\n",
    "log_reg.fit(X_train,y_train)\n",
    "log_proba = log_reg.predict_proba(X_test)\n",
    "log_auc=cross_val_score(log_reg, X_train, y_train, cv=5, scoring='roc_auc').mean()\n",
    "log_auc"
   ]
  },
  {
   "cell_type": "markdown",
   "metadata": {},
   "source": [
    "#### Деревья решений"
   ]
  },
  {
   "cell_type": "code",
   "execution_count": 109,
   "metadata": {},
   "outputs": [
    {
     "data": {
      "text/plain": [
       "0.9335934272049325"
      ]
     },
     "execution_count": 109,
     "metadata": {},
     "output_type": "execute_result"
    }
   ],
   "source": [
    "clf = DecisionTreeClassifier()\n",
    "clf.fit(X_train, y_train)\n",
    "clf_proba = clf.predict_proba(X_test)\n",
    "clf_auc=cross_val_score(clf, X_train, y_train, cv=5, scoring='roc_auc').mean()\n",
    "clf_auc"
   ]
  },
  {
   "cell_type": "markdown",
   "metadata": {},
   "source": [
    "#### Случайный лес"
   ]
  },
  {
   "cell_type": "code",
   "execution_count": 110,
   "metadata": {},
   "outputs": [
    {
     "data": {
      "text/plain": [
       "0.9867727142606713"
      ]
     },
     "execution_count": 110,
     "metadata": {},
     "output_type": "execute_result"
    }
   ],
   "source": [
    "rfc = RandomForestClassifier()\n",
    "rfc.fit(X_train, y_train)\n",
    "rfc_auc=cross_val_score(rfc, X_train, y_train, cv=5, scoring='roc_auc').mean()\n",
    "rfc_auc"
   ]
  },
  {
   "cell_type": "code",
   "execution_count": 111,
   "metadata": {},
   "outputs": [],
   "source": [
    "rfc_proba = rfc.predict_proba(X_test)"
   ]
  },
  {
   "cell_type": "markdown",
   "metadata": {},
   "source": [
    "#### KNeighbors"
   ]
  },
  {
   "cell_type": "code",
   "execution_count": 112,
   "metadata": {},
   "outputs": [
    {
     "data": {
      "text/plain": [
       "0.9372381868366204"
      ]
     },
     "execution_count": 112,
     "metadata": {},
     "output_type": "execute_result"
    }
   ],
   "source": [
    "knn = KNeighborsClassifier()\n",
    "knn.fit(X_train, y_train)\n",
    "knn_auc=cross_val_score(knn, X_train, y_train, cv=5, scoring='roc_auc').mean()\n",
    "knn_auc"
   ]
  },
  {
   "cell_type": "code",
   "execution_count": 113,
   "metadata": {},
   "outputs": [],
   "source": [
    "knn_proba = knn.predict_proba(X_test)"
   ]
  },
  {
   "cell_type": "markdown",
   "metadata": {},
   "source": [
    "##### График ROC-AUC"
   ]
  },
  {
   "cell_type": "code",
   "execution_count": 114,
   "metadata": {},
   "outputs": [
    {
     "data": {
      "text/plain": [
       "<matplotlib.legend.Legend at 0x1a9ddd26dc0>"
      ]
     },
     "execution_count": 114,
     "metadata": {},
     "output_type": "execute_result"
    },
    {
     "data": {
      "image/png": "[encoded data removed]",
      "text/plain": [
       "<Figure size 432x288 with 1 Axes>"
      ]
     },
     "metadata": {
      "needs_background": "light"
     },
     "output_type": "display_data"
    }
   ],
   "source": [
    "plt.figure()\n",
    "models = [\n",
    "{\n",
    "    'label': 'Логистическая регрессия',\n",
    "    'auc': log_auc,\n",
    "    'proba':log_proba\n",
    "},\n",
    "{\n",
    "    'label': 'Деревья решений',\n",
    "    'auc': clf_auc,\n",
    "    'proba': clf_proba\n",
    "},\n",
    "{\n",
    "    'label': 'Случайный лес',\n",
    "    'auc': rfc_auc,\n",
    "    'proba': rfc_proba\n",
    "},\n",
    "{\n",
    "    'label': 'KNN',\n",
    "    'auc': knn_auc,\n",
    "    'proba': knn_proba\n",
    "}\n",
    "    \n",
    "]\n",
    "for m in models:\n",
    "    fpr, tpr, thresholds = roc_curve(y_test, m['proba'][:,1])\n",
    "    plt.plot(fpr, tpr, label='%s ROC (area = %0.2f)' % (m['label'], m['auc']))\n",
    "plt.plot([0, 1], [0, 1],'r--')\n",
    "plt.title('ROC-AUC')\n",
    "plt.legend(loc=\"lower right\")"
   ]
  },
  {
   "cell_type": "markdown",
   "metadata": {},
   "source": [
    "###### Поробуем подобрать лучшие параметры, для случайного леса"
   ]
  },
  {
   "cell_type": "code",
   "execution_count": 115,
   "metadata": {},
   "outputs": [],
   "source": [
    "rf_params = {\"max_depth\": [5, 8, 15, None],\n",
    "             \"max_features\": [5, 7, \"auto\"],\n",
    "             \"min_samples_split\": [2, 8, 15, 20],\n",
    "             \"n_estimators\": [100, 200, 500, 1000]}\n"
   ]
  },
  {
   "cell_type": "code",
   "execution_count": 116,
   "metadata": {},
   "outputs": [
    {
     "name": "stdout",
     "output_type": "stream",
     "text": [
      "Fitting 3 folds for each of 100 candidates, totalling 300 fits\n"
     ]
    },
    {
     "name": "stderr",
     "output_type": "stream",
     "text": [
      "[Parallel(n_jobs=-1)]: Using backend LokyBackend with 16 concurrent workers.\n",
      "[Parallel(n_jobs=-1)]: Done   9 tasks      | elapsed:  1.7min\n",
      "[Parallel(n_jobs=-1)]: Done 130 tasks      | elapsed: 11.4min\n",
      "[Parallel(n_jobs=-1)]: Done 300 out of 300 | elapsed: 21.9min finished\n"
     ]
    },
    {
     "data": {
      "text/plain": [
       "RandomizedSearchCV(cv=3, estimator=RandomForestClassifier(), n_iter=100,\n",
       "                   n_jobs=-1,\n",
       "                   param_distributions={'max_depth': [5, 8, 15, None],\n",
       "                                        'max_features': [5, 7, 'auto'],\n",
       "                                        'min_samples_split': [2, 8, 15, 20],\n",
       "                                        'n_estimators': [100, 200, 500, 1000]},\n",
       "                   verbose=2)"
      ]
     },
     "execution_count": 116,
     "metadata": {},
     "output_type": "execute_result"
    }
   ],
   "source": [
    "rf_random = RandomizedSearchCV(estimator=rfc,\n",
    "                                   param_distributions=rf_params,\n",
    "                                   n_iter=100,\n",
    "                                   cv=3,\n",
    "                                   verbose=2,\n",
    "                                   n_jobs=-1)\n",
    "rf_random.fit(X_train, y_train)"
   ]
  },
  {
   "cell_type": "code",
   "execution_count": 117,
   "metadata": {},
   "outputs": [
    {
     "data": {
      "text/plain": [
       "{'n_estimators': 1000,\n",
       " 'min_samples_split': 2,\n",
       " 'max_features': 7,\n",
       " 'max_depth': None}"
      ]
     },
     "execution_count": 117,
     "metadata": {},
     "output_type": "execute_result"
    }
   ],
   "source": [
    "rf_random.best_params_"
   ]
  },
  {
   "cell_type": "code",
   "execution_count": 118,
   "metadata": {},
   "outputs": [
    {
     "data": {
      "text/plain": [
       "0.988860619753353"
      ]
     },
     "execution_count": 118,
     "metadata": {},
     "output_type": "execute_result"
    }
   ],
   "source": [
    "rfc = RandomForestClassifier(n_estimators=1000,\n",
    " min_samples_split=2,\n",
    " max_features=7,\n",
    " max_depth=None)\n",
    "rfc.fit(X_train, y_train)\n",
    "rfc_auc=cross_val_score(rfc, X_train, y_train, cv=5, scoring='roc_auc').mean()\n",
    "rfc_auc"
   ]
  },
  {
   "cell_type": "markdown",
   "metadata": {},
   "source": [
    "#### Предсказание на тестовой выборке"
   ]
  },
  {
   "cell_type": "code",
   "execution_count": 119,
   "metadata": {},
   "outputs": [],
   "source": [
    "rfc_proba_test = rfc.predict_proba(df_test)"
   ]
  },
  {
   "cell_type": "code",
   "execution_count": 120,
   "metadata": {},
   "outputs": [
    {
     "data": {
      "text/plain": [
       "array([0.074, 0.115, 0.821, ..., 0.742, 0.126, 0.911])"
      ]
     },
     "execution_count": 120,
     "metadata": {},
     "output_type": "execute_result"
    }
   ],
   "source": [
    "rfc_proba_test[:,1]"
   ]
  },
  {
   "cell_type": "code",
   "execution_count": 121,
   "metadata": {},
   "outputs": [
    {
     "data": {
      "text/html": [
       "<div>\n",
       "<style scoped>\n",
       "    .dataframe tbody tr th:only-of-type {\n",
       "        vertical-align: middle;\n",
       "    }\n",
       "\n",
       "    .dataframe tbody tr th {\n",
       "        vertical-align: top;\n",
       "    }\n",
       "\n",
       "    .dataframe thead th {\n",
       "        text-align: right;\n",
       "    }\n",
       "</style>\n",
       "<table border=\"1\" class=\"dataframe\">\n",
       "  <thead>\n",
       "    <tr style=\"text-align: right;\">\n",
       "      <th></th>\n",
       "      <th>Вероятность</th>\n",
       "    </tr>\n",
       "  </thead>\n",
       "  <tbody>\n",
       "    <tr>\n",
       "      <th>0</th>\n",
       "      <td>0.074</td>\n",
       "    </tr>\n",
       "    <tr>\n",
       "      <th>1</th>\n",
       "      <td>0.115</td>\n",
       "    </tr>\n",
       "    <tr>\n",
       "      <th>2</th>\n",
       "      <td>0.821</td>\n",
       "    </tr>\n",
       "    <tr>\n",
       "      <th>3</th>\n",
       "      <td>0.003</td>\n",
       "    </tr>\n",
       "    <tr>\n",
       "      <th>4</th>\n",
       "      <td>0.140</td>\n",
       "    </tr>\n",
       "    <tr>\n",
       "      <th>...</th>\n",
       "      <td>...</td>\n",
       "    </tr>\n",
       "    <tr>\n",
       "      <th>9995</th>\n",
       "      <td>0.957</td>\n",
       "    </tr>\n",
       "    <tr>\n",
       "      <th>9996</th>\n",
       "      <td>0.787</td>\n",
       "    </tr>\n",
       "    <tr>\n",
       "      <th>9997</th>\n",
       "      <td>0.742</td>\n",
       "    </tr>\n",
       "    <tr>\n",
       "      <th>9998</th>\n",
       "      <td>0.126</td>\n",
       "    </tr>\n",
       "    <tr>\n",
       "      <th>9999</th>\n",
       "      <td>0.911</td>\n",
       "    </tr>\n",
       "  </tbody>\n",
       "</table>\n",
       "<p>10000 rows × 1 columns</p>\n",
       "</div>"
      ],
      "text/plain": [
       "      Вероятность\n",
       "0           0.074\n",
       "1           0.115\n",
       "2           0.821\n",
       "3           0.003\n",
       "4           0.140\n",
       "...           ...\n",
       "9995        0.957\n",
       "9996        0.787\n",
       "9997        0.742\n",
       "9998        0.126\n",
       "9999        0.911\n",
       "\n",
       "[10000 rows x 1 columns]"
      ]
     },
     "execution_count": 121,
     "metadata": {},
     "output_type": "execute_result"
    }
   ],
   "source": [
    "f_out = pd.DataFrame({\"Вероятность\": rfc_proba_test[:,1]})\n",
    "f_out"
   ]
  },
  {
   "cell_type": "code",
   "execution_count": 123,
   "metadata": {},
   "outputs": [],
   "source": [
    "f_out.to_csv('result.csv')"
   ]
  },
  {
   "cell_type": "code",
   "execution_count": null,
   "metadata": {},
   "outputs": [],
   "source": []
  }
 ],
 "metadata": {
  "kernelspec": {
   "display_name": "Python 3",
   "language": "python",
   "name": "python3"
  },
  "language_info": {
   "codemirror_mode": {
    "name": "ipython",
    "version": 3
   },
   "file_extension": ".py",
   "mimetype": "text/x-python",
   "name": "python",
   "nbconvert_exporter": "python",
   "pygments_lexer": "ipython3",
   "version": "3.8.5"
  }
 },
 "nbformat": 4,
 "nbformat_minor": 4
}
